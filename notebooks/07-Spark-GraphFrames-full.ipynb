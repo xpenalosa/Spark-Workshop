{
 "cells": [
  {
   "cell_type": "markdown",
   "metadata": {},
   "source": [
    "# Spark GraphFrames"
   ]
  },
  {
   "cell_type": "markdown",
   "metadata": {},
   "source": [
    "GraphFrames is a Spark [package](https://spark-packages.org/package/graphframes/graphframes) that aims to use DataFrames for representing and working with graph structures. For the examples you will use the same datasets as in the previous notebook where you worked with GraphX API. \n",
    "\n",
    "Because GraphFrames are still not part of the official Spark distribution, you need to include them as a package. The easiest way to do it is to add `graphframes:graphframes:0.6.0-spark2.3-s_2.11` to the `spark.jars.packages` configuration parameter in the `/usr/local/spark/spark-defaults.conf` file. \n",
    "\n",
    "Then start a Spark session using the following code:"
   ]
  },
  {
   "cell_type": "code",
   "execution_count": 1,
   "metadata": {},
   "outputs": [],
   "source": [
    "import findspark\n",
    "findspark.init()\n",
    "\n",
    "from pyspark.sql import SparkSession\n",
    "spark = SparkSession.builder.appName(\"Spark course - GraphFrames\").\\\n",
    "    master(\"local[*]\").enableHiveSupport().getOrCreate()\n",
    "\n",
    "sc = spark.sparkContext"
   ]
  },
  {
   "cell_type": "markdown",
   "metadata": {},
   "source": [
    "Check your notebook's output to see if the GraphFrames package has been successfully downloaded."
   ]
  },
  {
   "cell_type": "markdown",
   "metadata": {},
   "source": [
    "## Creating GraphFrames"
   ]
  },
  {
   "cell_type": "markdown",
   "metadata": {},
   "source": [
    "To create an `graphframes.GraphFrame`, you need to give it a DataFrame with vertices and a DataFrame with edges (you can find the official GraphFrames documentation [here](https://graphframes.github.io/graphframes/docs/_site/api/python/graphframes.html#graphframes.GraphFrame)). The vertices DataFrame needs to have a column named `id` with vertex IDs, and any other columns with additional information you need. The edges DataFrame needs to have `src` and `dst` columns (containing IDs of source and destination vertices) and then again other columns you may need.\n",
    "\n",
    "You will recreate the Simpson's family graph now but use GraphFrames to represent it. Here is the graph figure again:\n",
    "![graph](graph.png)\n",
    "\n",
    "Create DataFrames from arrays of tuples (`spark.createDataFrame` method) and then call `toDF` method to give names to the columns. "
   ]
  },
  {
   "cell_type": "code",
   "execution_count": 2,
   "metadata": {},
   "outputs": [],
   "source": [
    "from pyspark.sql import Row\n",
    "vertices = spark.createDataFrame([\n",
    "    Row(id=1, name=\"Homer\", age=39),\n",
    "    Row(id=2, name=\"Marge\", age=39),\n",
    "    Row(id=3, name=\"Bart\", age=12),\n",
    "    Row(id=4, name=\"Milhouse\", age=12) ])\n",
    "edges = spark.createDataFrame([\n",
    "    Row(src=1, dst=2, relation=\"marriedTo\"),\n",
    "    Row(src=3, dst=1, relation=\"father\"),\n",
    "    Row(src=3, dst=2, relation=\"mother\"),\n",
    "    Row(src=4, dst=3, relation=\"friend\") ])"
   ]
  },
  {
   "cell_type": "markdown",
   "metadata": {},
   "source": [
    "Now create a `GraphFrame` using these two DataFrames."
   ]
  },
  {
   "cell_type": "code",
   "execution_count": 3,
   "metadata": {},
   "outputs": [],
   "source": [
    "from graphframes import GraphFrame\n",
    "graph = GraphFrame(vertices, edges)"
   ]
  },
  {
   "cell_type": "markdown",
   "metadata": {},
   "source": [
    "Access graph's vertices and edges and `show` them."
   ]
  },
  {
   "cell_type": "code",
   "execution_count": 4,
   "metadata": {},
   "outputs": [
    {
     "name": "stdout",
     "output_type": "stream",
     "text": [
      "+---+---+--------+\n",
      "|age| id|    name|\n",
      "+---+---+--------+\n",
      "| 39|  1|   Homer|\n",
      "| 39|  2|   Marge|\n",
      "| 12|  3|    Bart|\n",
      "| 12|  4|Milhouse|\n",
      "+---+---+--------+\n",
      "\n",
      "+---+---------+---+\n",
      "|dst| relation|src|\n",
      "+---+---------+---+\n",
      "|  2|marriedTo|  1|\n",
      "|  1|   father|  3|\n",
      "|  2|   mother|  3|\n",
      "|  3|   friend|  4|\n",
      "+---+---------+---+\n",
      "\n"
     ]
    }
   ],
   "source": [
    "graph.vertices.show()\n",
    "graph.edges.show()"
   ]
  },
  {
   "cell_type": "markdown",
   "metadata": {},
   "source": [
    "Find all the tripplets in the graph and `show` them."
   ]
  },
  {
   "cell_type": "code",
   "execution_count": 5,
   "metadata": {},
   "outputs": [
    {
     "name": "stdout",
     "output_type": "stream",
     "text": [
      "+-----------------+-----------------+--------------+\n",
      "|              src|             edge|           dst|\n",
      "+-----------------+-----------------+--------------+\n",
      "|    [12, 3, Bart]|   [1, father, 3]|[39, 1, Homer]|\n",
      "|[12, 4, Milhouse]|   [3, friend, 4]| [12, 3, Bart]|\n",
      "|   [39, 1, Homer]|[2, marriedTo, 1]|[39, 2, Marge]|\n",
      "|    [12, 3, Bart]|   [2, mother, 3]|[39, 2, Marge]|\n",
      "+-----------------+-----------------+--------------+\n",
      "\n"
     ]
    }
   ],
   "source": [
    "graph.triplets.show()"
   ]
  },
  {
   "cell_type": "markdown",
   "metadata": {},
   "source": [
    "## Filtering GraphFrames"
   ]
  },
  {
   "cell_type": "markdown",
   "metadata": {},
   "source": [
    "Use GraphFrame's motif searching to find all sets of vertices where a connection exists between the first and the second and between the second and the third vertex, but not vice versa."
   ]
  },
  {
   "cell_type": "code",
   "execution_count": 6,
   "metadata": {},
   "outputs": [
    {
     "name": "stdout",
     "output_type": "stream",
     "text": [
      "+-----------------+--------------+--------------+\n",
      "|                a|             b|             c|\n",
      "+-----------------+--------------+--------------+\n",
      "|    [12, 3, Bart]|[39, 1, Homer]|[39, 2, Marge]|\n",
      "|[12, 4, Milhouse]| [12, 3, Bart]|[39, 2, Marge]|\n",
      "|[12, 4, Milhouse]| [12, 3, Bart]|[39, 1, Homer]|\n",
      "+-----------------+--------------+--------------+\n",
      "\n"
     ]
    }
   ],
   "source": [
    "motif = graph.find(\"(a)-[]->(b); (b)-[]->(c); !(c)-[]->(b); !(b)-[]->(a)\")\n",
    "motif.show()"
   ]
  },
  {
   "cell_type": "markdown",
   "metadata": {},
   "source": [
    "Further filter the resulting sets and find only those whose middle vertex has associated age of less than 30."
   ]
  },
  {
   "cell_type": "code",
   "execution_count": 7,
   "metadata": {},
   "outputs": [
    {
     "name": "stdout",
     "output_type": "stream",
     "text": [
      "+-----------------+-------------+--------------+\n",
      "|                a|            b|             c|\n",
      "+-----------------+-------------+--------------+\n",
      "|[12, 4, Milhouse]|[12, 3, Bart]|[39, 2, Marge]|\n",
      "|[12, 4, Milhouse]|[12, 3, Bart]|[39, 1, Homer]|\n",
      "+-----------------+-------------+--------------+\n",
      "\n"
     ]
    }
   ],
   "source": [
    "motif.filter(\"b.age < 30\").show()"
   ]
  },
  {
   "cell_type": "markdown",
   "metadata": {},
   "source": [
    "Find the vertex with the most edges going into it. Also find the name of the associated person."
   ]
  },
  {
   "cell_type": "code",
   "execution_count": 8,
   "metadata": {},
   "outputs": [
    {
     "name": "stdout",
     "output_type": "stream",
     "text": [
      "+---+--------+\n",
      "| id|inDegree|\n",
      "+---+--------+\n",
      "|  2|       2|\n",
      "|  1|       1|\n",
      "|  3|       1|\n",
      "+---+--------+\n",
      "\n"
     ]
    }
   ],
   "source": [
    "import pyspark.sql.functions as F\n",
    "graph.inDegrees.orderBy(F.col('inDegree').desc()).show()"
   ]
  },
  {
   "cell_type": "code",
   "execution_count": 9,
   "metadata": {},
   "outputs": [
    {
     "name": "stdout",
     "output_type": "stream",
     "text": [
      "+---+---+-----+\n",
      "|age| id| name|\n",
      "+---+---+-----+\n",
      "| 39|  2|Marge|\n",
      "+---+---+-----+\n",
      "\n"
     ]
    }
   ],
   "source": [
    "graph.vertices.filter(\"id = 2\").show()"
   ]
  },
  {
   "cell_type": "markdown",
   "metadata": {},
   "source": [
    "Find the vertex with the most outgoing edges and the name of the associated person (you can do it in two steps)."
   ]
  },
  {
   "cell_type": "code",
   "execution_count": 10,
   "metadata": {
    "scrolled": true
   },
   "outputs": [
    {
     "name": "stdout",
     "output_type": "stream",
     "text": [
      "+---+---------+\n",
      "| id|outDegree|\n",
      "+---+---------+\n",
      "|  3|        2|\n",
      "|  1|        1|\n",
      "|  4|        1|\n",
      "+---+---------+\n",
      "\n"
     ]
    }
   ],
   "source": [
    "graph.outDegrees.orderBy(F.col('outDegree').desc()).show()"
   ]
  },
  {
   "cell_type": "code",
   "execution_count": 11,
   "metadata": {},
   "outputs": [
    {
     "name": "stdout",
     "output_type": "stream",
     "text": [
      "+---+---+----+\n",
      "|age| id|name|\n",
      "+---+---+----+\n",
      "| 12|  3|Bart|\n",
      "+---+---+----+\n",
      "\n"
     ]
    }
   ],
   "source": [
    "graph.vertices.filter(F.col('id') == 3).show()"
   ]
  },
  {
   "cell_type": "markdown",
   "metadata": {},
   "source": [
    "Create a subgraph containing only the two vertices you found and display its triplets (create a new `GraphFrame`). Does it have the expected number of edges?"
   ]
  },
  {
   "cell_type": "code",
   "execution_count": 12,
   "metadata": {},
   "outputs": [
    {
     "name": "stdout",
     "output_type": "stream",
     "text": [
      "+-------------+--------------+--------------+\n",
      "|          src|          edge|           dst|\n",
      "+-------------+--------------+--------------+\n",
      "|[12, 3, Bart]|[2, mother, 3]|[39, 2, Marge]|\n",
      "+-------------+--------------+--------------+\n",
      "\n"
     ]
    }
   ],
   "source": [
    "newGraph = GraphFrame(graph.vertices.filter((F.col('id') == 3) | (F.col('id') == 2)), edges)\n",
    "newGraph.triplets.show()"
   ]
  },
  {
   "cell_type": "markdown",
   "metadata": {},
   "source": [
    "## Graph algorithms"
   ]
  },
  {
   "cell_type": "markdown",
   "metadata": {},
   "source": [
    "For running graph algorithms lets again switch to the “Human Wayfinding in Information Networks” dataset.\n",
    "\n",
    "Load articles and links with the following code:"
   ]
  },
  {
   "cell_type": "code",
   "execution_count": 13,
   "metadata": {},
   "outputs": [],
   "source": [
    "articles = sc.textFile(\"../first-edition/ch09/articles.tsv\").\\\n",
    "    filter(lambda line: line.strip() != \"\" and not line[0] == \"#\").\\\n",
    "    zipWithIndex()\n",
    "links = sc.textFile(\"../first-edition/ch09/links.tsv\").\\\n",
    "    filter(lambda line: line.strip() != \"\" and not line[0] == \"#\")\n",
    "def spl(x):\n",
    "    spl = x.split('\\t')\n",
    "    return (spl[0], spl[1])\n",
    "linkIndexes = links.map(spl).join(articles).map(lambda x: x[1]).\\\n",
    "    join(articles).map(lambda x: x[1])"
   ]
  },
  {
   "cell_type": "markdown",
   "metadata": {},
   "source": [
    "Unlike `Graph` in GraphX, `GraphFrame` has no `fromEdges` method, so you cannot use only a DataFrame with edges to create a `GraphFrame`. You will first need to convert `linkIndexes` to a DataFrame, create another DataFrame with all vertex IDs (you only need the `id` column), and then use both to create a GraphFrame. (Hint: to create a list of all vertex IDs try the DataFrame's `union` method)"
   ]
  },
  {
   "cell_type": "code",
   "execution_count": 14,
   "metadata": {},
   "outputs": [],
   "source": [
    "wedges = spark.createDataFrame(linkIndexes, [\"src\", \"dst\"])\n",
    "wvertices = wedges.select(wedges.src.alias('id')).union(wedges.select(wedges.dst.alias('id'))).distinct()"
   ]
  },
  {
   "cell_type": "code",
   "execution_count": 15,
   "metadata": {},
   "outputs": [],
   "source": [
    "wikigraph = GraphFrame(wvertices, wedges)"
   ]
  },
  {
   "cell_type": "markdown",
   "metadata": {},
   "source": [
    "Check your results by comparing the number of vertices in the graph and the number of unique article IDs in `linkIndexes`."
   ]
  },
  {
   "cell_type": "code",
   "execution_count": 16,
   "metadata": {},
   "outputs": [
    {
     "name": "stdout",
     "output_type": "stream",
     "text": [
      "4592\n",
      "4592\n"
     ]
    }
   ],
   "source": [
    "print(wikigraph.vertices.count())\n",
    "print(linkIndexes.map(lambda x: x[0]).union(linkIndexes.map(lambda x: x[1])).distinct().count())"
   ]
  },
  {
   "cell_type": "markdown",
   "metadata": {},
   "source": [
    "## Shortest paths"
   ]
  },
  {
   "cell_type": "markdown",
   "metadata": {},
   "source": [
    "GraphFrames also have shortest paths algorithm that functions in the same way as the GraphX one. \n",
    "\n",
    "Run the [shortest paths algorithm](http://graphframes.github.io/api/scala/index.html#org.graphframes.GraphFrame@shortestPaths:org.graphframes.lib.ShortestPaths) to find the shortest path between vertices with IDs 10 (\"14th century\") and 3425 (\"Rainbow\"). (You can use either of these two as the starting landmark.)"
   ]
  },
  {
   "cell_type": "code",
   "execution_count": 17,
   "metadata": {},
   "outputs": [
    {
     "name": "stdout",
     "output_type": "stream",
     "text": [
      "+----+---------+\n",
      "|  id|distances|\n",
      "+----+---------+\n",
      "|  26|[10 -> 1]|\n",
      "|  29|[10 -> 3]|\n",
      "| 474|[10 -> 3]|\n",
      "| 964|[10 -> 4]|\n",
      "|1677|[10 -> 3]|\n",
      "|1697|[10 -> 3]|\n",
      "|1806|[10 -> 3]|\n",
      "|1950|[10 -> 3]|\n",
      "|2040|[10 -> 3]|\n",
      "|2214|[10 -> 3]|\n",
      "|2250|[10 -> 2]|\n",
      "|2453|[10 -> 2]|\n",
      "|2509|[10 -> 2]|\n",
      "|2529|[10 -> 3]|\n",
      "|2927|[10 -> 3]|\n",
      "|3091|[10 -> 2]|\n",
      "|3506|[10 -> 3]|\n",
      "|3764|[10 -> 3]|\n",
      "|4590|[10 -> 3]|\n",
      "|  65|[10 -> 3]|\n",
      "+----+---------+\n",
      "only showing top 20 rows\n",
      "\n"
     ]
    }
   ],
   "source": [
    "shortest = wikigraph.shortestPaths([10])\n",
    "shortest.show()"
   ]
  },
  {
   "cell_type": "code",
   "execution_count": 18,
   "metadata": {},
   "outputs": [
    {
     "name": "stdout",
     "output_type": "stream",
     "text": [
      "+----+---------+\n",
      "|  id|distances|\n",
      "+----+---------+\n",
      "|3425|[10 -> 2]|\n",
      "+----+---------+\n",
      "\n"
     ]
    }
   ],
   "source": [
    "shortest.filter(shortest.id == 3425).show()"
   ]
  },
  {
   "cell_type": "markdown",
   "metadata": {},
   "source": [
    "GraphFrames offer another algorithm for finding shortest paths between vertices: breadth-first search algorithm (the `bfs` method). Unlike shortest paths, BFS will also return the path between vertices. You can also use other vertex columns to specify which vertices you wish to find.\n",
    "\n",
    "Find the shortest path using BFS between the two vertices you used above. Hint: because of a bug in Python GraphFrames interface, use String \"from\" and \"to\" expressions in SQL syntax)"
   ]
  },
  {
   "cell_type": "code",
   "execution_count": 47,
   "metadata": {},
   "outputs": [],
   "source": [
    "bfsres = wikigraph.bfs(\"id = 10\", \"id = 3425\")"
   ]
  },
  {
   "cell_type": "code",
   "execution_count": 20,
   "metadata": {
    "scrolled": true
   },
   "outputs": [
    {
     "name": "stdout",
     "output_type": "stream",
     "text": [
      "+----+----------+------+------------+------+------------+------+\n",
      "|from|        e0|    v1|          e1|    v2|          e2|    to|\n",
      "+----+----------+------+------------+------+------------+------+\n",
      "|[10]|[10, 1316]|[1316]|[1316, 4413]|[4413]|[4413, 3425]|[3425]|\n",
      "|[10]|  [10, 12]|  [12]|  [12, 4413]|[4413]|[4413, 3425]|[3425]|\n",
      "|[10]|[10, 1385]|[1385]|[1385, 4413]|[4413]|[4413, 3425]|[3425]|\n",
      "|[10]|[10, 4147]|[4147]|[4147, 2165]|[2165]|[2165, 3425]|[3425]|\n",
      "|[10]|[10, 4147]|[4147]|[4147, 2466]|[2466]|[2466, 3425]|[3425]|\n",
      "+----+----------+------+------------+------+------------+------+\n",
      "\n"
     ]
    }
   ],
   "source": [
    "bfsres.show()"
   ]
  },
  {
   "cell_type": "markdown",
   "metadata": {},
   "source": [
    "## Page rank"
   ]
  },
  {
   "cell_type": "markdown",
   "metadata": {},
   "source": [
    "With GraphFrames you can run Page rank either until convergence (determined by the tolerance parameter and equivalent to GraphX) or until some number of iterations.\n",
    "\n",
    "Run it now and specify tolerance (`tol` method) of `0.01`."
   ]
  },
  {
   "cell_type": "code",
   "execution_count": 21,
   "metadata": {},
   "outputs": [],
   "source": [
    "pr = wikigraph.pageRank(tol=0.01)"
   ]
  },
  {
   "cell_type": "markdown",
   "metadata": {},
   "source": [
    "Examine the results."
   ]
  },
  {
   "cell_type": "code",
   "execution_count": 22,
   "metadata": {
    "scrolled": true
   },
   "outputs": [
    {
     "name": "stdout",
     "output_type": "stream",
     "text": [
      "+----+-------------------+\n",
      "|  id|           pagerank|\n",
      "+----+-------------------+\n",
      "|  26|  2.038833865442534|\n",
      "|  29|0.22148529739398057|\n",
      "| 474|  2.278494867415354|\n",
      "| 964|0.20566204895247073|\n",
      "|1677|  1.154281917375591|\n",
      "|1697| 0.2116434552836052|\n",
      "|1806| 0.5611711984548275|\n",
      "|1950| 0.1779560833591355|\n",
      "|2040|0.18777907129744795|\n",
      "|2214|  1.629150846099081|\n",
      "|2250| 0.2032200347509332|\n",
      "|2453|0.30756654346523216|\n",
      "|2509|0.17133627281842367|\n",
      "|2529|0.20786035245720705|\n",
      "|2927|0.31619285501737315|\n",
      "|3091| 0.2707326884211503|\n",
      "|3506|  0.686664930156517|\n",
      "|3764|  2.011237418669906|\n",
      "|4590|0.19047425242692329|\n",
      "|  65|0.17133627281842367|\n",
      "+----+-------------------+\n",
      "only showing top 20 rows\n",
      "\n"
     ]
    }
   ],
   "source": [
    "pr.vertices.show()"
   ]
  },
  {
   "cell_type": "code",
   "execution_count": 23,
   "metadata": {},
   "outputs": [
    {
     "name": "stdout",
     "output_type": "stream",
     "text": [
      "+---+----+--------------------+\n",
      "|src| dst|              weight|\n",
      "+---+----+--------------------+\n",
      "| 15|  19| 0.01098901098901099|\n",
      "| 18|3758|0.037037037037037035|\n",
      "| 24|1999|0.005988023952095809|\n",
      "| 31|2053|               0.025|\n",
      "| 32|2109|0.014285714285714285|\n",
      "| 33|4234|0.017857142857142856|\n",
      "| 37|3934|0.047619047619047616|\n",
      "| 38| 594|0.010752688172043012|\n",
      "| 38|3244|0.010752688172043012|\n",
      "| 49|1086|0.047619047619047616|\n",
      "| 51|1888|0.043478260869565216|\n",
      "| 62|  15|0.022222222222222223|\n",
      "| 74|1648| 0.07142857142857142|\n",
      "| 97|2631| 0.02857142857142857|\n",
      "|112|2605|              0.0625|\n",
      "|125| 255| 0.02127659574468085|\n",
      "|125|2444| 0.02127659574468085|\n",
      "|128|1734|0.004716981132075...|\n",
      "|130| 590|                 0.1|\n",
      "|166|2417|0.015873015873015872|\n",
      "+---+----+--------------------+\n",
      "only showing top 20 rows\n",
      "\n"
     ]
    }
   ],
   "source": [
    "pr.edges.show()"
   ]
  },
  {
   "cell_type": "markdown",
   "metadata": {},
   "source": [
    "Which vertex has the highest rank? Which page does it correspond to (query the `articles` RDD)?"
   ]
  },
  {
   "cell_type": "code",
   "execution_count": 24,
   "metadata": {
    "scrolled": true
   },
   "outputs": [
    {
     "name": "stdout",
     "output_type": "stream",
     "text": [
      "+----+------------------+\n",
      "|  id|          pagerank|\n",
      "+----+------------------+\n",
      "|4297|42.941000938544825|\n",
      "|1568| 28.83841348768163|\n",
      "|1433| 28.52832394499783|\n",
      "|4293| 27.95337082105467|\n",
      "|1389| 21.95177052208199|\n",
      "|1694|21.636324780265458|\n",
      "|4542| 21.22829131687344|\n",
      "|1385|20.022338324280703|\n",
      "|2417| 19.85243244856757|\n",
      "|2098|18.167974877814252|\n",
      "|2226|17.476972659146497|\n",
      "|2183| 16.72314650409159|\n",
      "|3829|16.364722838771037|\n",
      "| 894|16.053461713596366|\n",
      "|3567|15.713729140392598|\n",
      "|4148|15.661706730685271|\n",
      "| 768|15.475989279371419|\n",
      "|1101|14.666711238945627|\n",
      "| 393|14.342080418591092|\n",
      "| 128|14.287240443354486|\n",
      "+----+------------------+\n",
      "only showing top 20 rows\n",
      "\n"
     ]
    }
   ],
   "source": [
    "pr.vertices.orderBy(F.col('pagerank').desc()).show()"
   ]
  },
  {
   "cell_type": "code",
   "execution_count": 25,
   "metadata": {},
   "outputs": [
    {
     "data": {
      "text/plain": [
       "[('United_States', 4297)]"
      ]
     },
     "execution_count": 25,
     "metadata": {},
     "output_type": "execute_result"
    }
   ],
   "source": [
    "articles.filter(lambda x: x[1] == 4297).collect()"
   ]
  },
  {
   "cell_type": "markdown",
   "metadata": {},
   "source": [
    "## Connected components"
   ]
  },
  {
   "cell_type": "markdown",
   "metadata": {},
   "source": [
    "Using connected components is similar to the GraphX version. You just call `run` with no arguments. (Before running the algorithm set Spark's checkpoint directory to `/home/spark/checkpoint`)\n",
    "\n",
    "Do that now and examine the results. Do they match those from the last notebook?"
   ]
  },
  {
   "cell_type": "code",
   "execution_count": 26,
   "metadata": {},
   "outputs": [],
   "source": [
    "sc.setCheckpointDir(\"/home/spark/checkpoint\")\n",
    "cc = wikigraph.connectedComponents()"
   ]
  },
  {
   "cell_type": "code",
   "execution_count": 27,
   "metadata": {},
   "outputs": [
    {
     "data": {
      "text/plain": [
       "2"
      ]
     },
     "execution_count": 27,
     "metadata": {},
     "output_type": "execute_result"
    }
   ],
   "source": [
    "cc.select(cc['component']).distinct().count()"
   ]
  },
  {
   "cell_type": "markdown",
   "metadata": {},
   "source": [
    "How many vertices are there in each connected component?"
   ]
  },
  {
   "cell_type": "code",
   "execution_count": 28,
   "metadata": {},
   "outputs": [
    {
     "name": "stdout",
     "output_type": "stream",
     "text": [
      "+---------+-----+\n",
      "|component|count|\n",
      "+---------+-----+\n",
      "|        0| 4589|\n",
      "|     1210|    3|\n",
      "+---------+-----+\n",
      "\n"
     ]
    }
   ],
   "source": [
    "cc.groupBy(cc.component).count().show()"
   ]
  },
  {
   "cell_type": "markdown",
   "metadata": {},
   "source": [
    "## Strongly connected components"
   ]
  },
  {
   "cell_type": "markdown",
   "metadata": {},
   "source": [
    "Strongly connected components is also similar to GraphX version. Try it out with 100 iterations (call `maxIter` before calling `run`)."
   ]
  },
  {
   "cell_type": "code",
   "execution_count": 29,
   "metadata": {},
   "outputs": [],
   "source": [
    "scc = wikigraph.stronglyConnectedComponents(maxIter=100)"
   ]
  },
  {
   "cell_type": "markdown",
   "metadata": {},
   "source": [
    "How many strongly connected components did the algorithm find?"
   ]
  },
  {
   "cell_type": "code",
   "execution_count": 30,
   "metadata": {},
   "outputs": [
    {
     "data": {
      "text/plain": [
       "519"
      ]
     },
     "execution_count": 30,
     "metadata": {},
     "output_type": "execute_result"
    }
   ],
   "source": [
    "scc.select(scc.component).distinct().count()"
   ]
  },
  {
   "cell_type": "markdown",
   "metadata": {},
   "source": [
    "Which components contain the most vertices?"
   ]
  },
  {
   "cell_type": "code",
   "execution_count": 31,
   "metadata": {},
   "outputs": [
    {
     "name": "stdout",
     "output_type": "stream",
     "text": [
      "+---------+-----+\n",
      "|component|count|\n",
      "+---------+-----+\n",
      "|        6| 4051|\n",
      "|     2488|    6|\n",
      "|     1831|    3|\n",
      "|     2142|    2|\n",
      "|     1986|    2|\n",
      "|     2251|    2|\n",
      "|      892|    2|\n",
      "|     1834|    2|\n",
      "|     1950|    2|\n",
      "|     1513|    2|\n",
      "|      557|    2|\n",
      "|     1976|    2|\n",
      "|      477|    2|\n",
      "|     2160|    2|\n",
      "|      195|    2|\n",
      "|     1111|    2|\n",
      "|     4224|    2|\n",
      "|     2474|    2|\n",
      "|     2321|    2|\n",
      "|     1202|    1|\n",
      "+---------+-----+\n",
      "only showing top 20 rows\n",
      "\n"
     ]
    }
   ],
   "source": [
    "scc.groupBy(scc.component).count().orderBy(F.col('count').desc()).show()"
   ]
  },
  {
   "cell_type": "markdown",
   "metadata": {},
   "source": [
    "## Triangle count"
   ]
  },
  {
   "cell_type": "markdown",
   "metadata": {},
   "source": [
    "Triangle count algorithm returns a DataFrame with a number of triangles passing through each vertex. Run it on the wikispeedia graph and examine the results."
   ]
  },
  {
   "cell_type": "code",
   "execution_count": 32,
   "metadata": {},
   "outputs": [],
   "source": [
    "tcnt = wikigraph.triangleCount()"
   ]
  },
  {
   "cell_type": "code",
   "execution_count": 33,
   "metadata": {},
   "outputs": [
    {
     "name": "stdout",
     "output_type": "stream",
     "text": [
      "+-----+----+\n",
      "|count|  id|\n",
      "+-----+----+\n",
      "|  449|  26|\n",
      "|   12|  29|\n",
      "|  481| 474|\n",
      "|    3| 964|\n",
      "|  641|1677|\n",
      "|    9|1697|\n",
      "|  174|1806|\n",
      "|   49|1950|\n",
      "|   11|2040|\n",
      "|  460|2214|\n",
      "|   16|2250|\n",
      "|   34|2453|\n",
      "|  328|2509|\n",
      "|   21|2529|\n",
      "|   48|2927|\n",
      "|  132|3091|\n",
      "|   71|3506|\n",
      "|  278|3764|\n",
      "|   16|4590|\n",
      "|  130|  65|\n",
      "+-----+----+\n",
      "only showing top 20 rows\n",
      "\n"
     ]
    }
   ],
   "source": [
    "tcnt.show()"
   ]
  },
  {
   "cell_type": "markdown",
   "metadata": {},
   "source": [
    "## Label propagation"
   ]
  },
  {
   "cell_type": "markdown",
   "metadata": {},
   "source": [
    "Label propagation is an algorithm for detecting communities in networks. The result of the algorithm is a DataFrame containing original vertex columns plus one additional column called `label`, corresponding to the detected community.\n",
    "\n",
    "Run it now on the wikispeedia graph with the maximum of 20 iterations and examine the results."
   ]
  },
  {
   "cell_type": "code",
   "execution_count": 34,
   "metadata": {},
   "outputs": [
    {
     "name": "stdout",
     "output_type": "stream",
     "text": [
      "+----+-----+\n",
      "|  id|label|\n",
      "+----+-----+\n",
      "|  26| 3021|\n",
      "|  29| 3021|\n",
      "| 474| 3021|\n",
      "| 964| 3021|\n",
      "|1677| 3021|\n",
      "|1697| 3021|\n",
      "|1806| 3021|\n",
      "|1950| 3021|\n",
      "|2040| 3021|\n",
      "|2214| 3021|\n",
      "|2250| 3021|\n",
      "|2453| 3021|\n",
      "|2509| 3021|\n",
      "|2529| 3021|\n",
      "|2927| 3021|\n",
      "|3091| 3021|\n",
      "|3506| 3021|\n",
      "|3764| 3021|\n",
      "|4590| 3021|\n",
      "|  65| 3021|\n",
      "+----+-----+\n",
      "only showing top 20 rows\n",
      "\n"
     ]
    }
   ],
   "source": [
    "wikilabels = wikigraph.labelPropagation(maxIter=20)\n",
    "wikilabels.show()"
   ]
  },
  {
   "cell_type": "markdown",
   "metadata": {},
   "source": [
    "Find the number of vertices in each label and compare the results with the connected components above."
   ]
  },
  {
   "cell_type": "code",
   "execution_count": 35,
   "metadata": {},
   "outputs": [
    {
     "name": "stdout",
     "output_type": "stream",
     "text": [
      "+-----+-----+\n",
      "|label|count|\n",
      "+-----+-----+\n",
      "| 3021| 4589|\n",
      "| 3849|    2|\n",
      "| 1600|    1|\n",
      "+-----+-----+\n",
      "\n"
     ]
    }
   ],
   "source": [
    "wikilabels.groupBy(wikilabels.label).count().orderBy(F.col('count').desc()).show()"
   ]
  },
  {
   "cell_type": "markdown",
   "metadata": {},
   "source": [
    "## Aggregating messages"
   ]
  },
  {
   "cell_type": "markdown",
   "metadata": {},
   "source": [
    "`aggregateMessages` is a low-level method of implementing various graph algorithms. With its `sendToDst` and `sendToSrc` expressions you can send messages (as SQL expressions) to source and/or destination vertices of each triplet in the graph. `aggCol` expression is used for aggregating all the received messages.\n",
    "\n",
    "Try using `aggregateMessages` on the Simpson's family graph to calculate the number of friends for each vertex (number of edges with relation `friend` going into the vertex). You need to provide `sendToMsg` and `aggCol` \"functions\" as Column definitions. To construct these Column definitions you can use Spark SQL functions and `graphframes.lib.AggregateMessages`'s `src`, `edge`, `dst`, and `msg` fields. \n",
    "\n",
    "The result of `aggregateMessages` will be a DataFrame with two columns (vertex `id` and the aggregation result), with generic column names. You will need to join this DataFrame with the original vertices to add the new column to the data (you should rename the generic column names first). "
   ]
  },
  {
   "cell_type": "code",
   "execution_count": 44,
   "metadata": {},
   "outputs": [
    {
     "name": "stdout",
     "output_type": "stream",
     "text": [
      "+-----+-------+\n",
      "|aggid|friends|\n",
      "+-----+-------+\n",
      "|    1|      0|\n",
      "|    3|      1|\n",
      "|    2|      0|\n",
      "+-----+-------+\n",
      "\n"
     ]
    }
   ],
   "source": [
    "from graphframes.lib import AggregateMessages as AM\n",
    "msgToDst = F.when(AM.edge[\"relation\"] == \"friend\", 1).otherwise(0)\n",
    "aggres = graph.aggregateMessages(sendToDst=msgToDst, aggCol=F.sum(AM.msg)).toDF(\"aggid\", \"friends\")\n",
    "aggres.show()"
   ]
  },
  {
   "cell_type": "code",
   "execution_count": 51,
   "metadata": {},
   "outputs": [
    {
     "name": "stdout",
     "output_type": "stream",
     "text": [
      "+---+-----+---+-------+\n",
      "| id| name|age|friends|\n",
      "+---+-----+---+-------+\n",
      "|  1|Homer| 39|      0|\n",
      "|  3| Bart| 12|      1|\n",
      "|  2|Marge| 39|      0|\n",
      "+---+-----+---+-------+\n",
      "\n"
     ]
    }
   ],
   "source": [
    "graph.vertices.join(aggres, F.col('id') == F.col(\"aggid\")).select(\"id\", 'name', 'age', 'friends').show()"
   ]
  }
 ],
 "metadata": {
  "kernelspec": {
   "display_name": "Python 3",
   "language": "python",
   "name": "python3"
  },
  "language_info": {
   "codemirror_mode": {
    "name": "ipython",
    "version": 3
   },
   "file_extension": ".py",
   "mimetype": "text/x-python",
   "name": "python",
   "nbconvert_exporter": "python",
   "pygments_lexer": "ipython3",
   "version": "3.6.5"
  }
 },
 "nbformat": 4,
 "nbformat_minor": 2
}
