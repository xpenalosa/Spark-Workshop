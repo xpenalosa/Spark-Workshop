{
 "cells": [
  {
   "cell_type": "markdown",
   "metadata": {},
   "source": [
    "# Spark SQL"
   ]
  },
  {
   "cell_type": "markdown",
   "metadata": {},
   "source": [
    "First, let's create a Spark session."
   ]
  },
  {
   "cell_type": "code",
   "execution_count": 1,
   "metadata": {},
   "outputs": [],
   "source": [
    "import findspark\n",
    "findspark.init()\n",
    "\n",
    "from pyspark.sql import SparkSession\n",
    "spark = SparkSession.builder.appName(\"Spark course - Spark SQL\").\\\n",
    "    master(\"local[*]\").enableHiveSupport().getOrCreate()\n",
    "\n",
    "sc = spark.sparkContext"
   ]
  },
  {
   "cell_type": "markdown",
   "metadata": {},
   "source": [
    "File `/home/spark/first-edition/ch05/italian-posts.csv` contains anonymized data dump of questions and\n",
    "answers from the Stack Exchange Italian language community as tilda-separated values. Each line contains these fields:   \n",
    "* commentCount - Number of comments related to the question/answer\n",
    "* lastActivityDate - Date and time of the last modification\n",
    "* ownerUserId - User ID of the owner\n",
    "* body - Textual contents of the question/answer\n",
    "* score - Total score based on upvotes and downvotes\n",
    "* creationDate - Date and time of creation\n",
    "* viewCount - View count\n",
    "* title - Title of the question\n",
    "* tags - Set of tags the question has been marked with \n",
    "* answerCount - Number of related answers\n",
    "* acceptedAnswerId - If a question contains the ID of its accepted answer\n",
    "* postTypeId - Type of the post; 1 is for questions, 2 for answers\n",
    "* id - Post’s unique ID\n",
    "   \n",
    "Load the file into `itPostsRows` RDD."
   ]
  },
  {
   "cell_type": "code",
   "execution_count": 2,
   "metadata": {},
   "outputs": [],
   "source": [
    "itPostsRows = sc.textFile(\"/home/spark/first-edition/ch05/italianPosts.csv\")"
   ]
  },
  {
   "cell_type": "markdown",
   "metadata": {},
   "source": [
    "Create a Spark schema (a `StructType` object) with the following columns:\n",
    "\n",
    "| Column name | Type | Nullable |\n",
    "| ----------- | ---- | -------- |\n",
    "| commentCount | integer | true |\n",
    "| lastActivityDate | timestamp | true |\n",
    "| ownerUserId | long | true |\n",
    "| body | string | true |\n",
    "| score | integer | true |\n",
    "| creationDate | timestamp | true |\n",
    "| viewCount | integer | true |\n",
    "| title | string | true |\n",
    "| tags | string | true |\n",
    "| answerCount | integer | true |\n",
    "| acceptedAnswerId | long | true |\n",
    "| postTypeId | long | true |\n",
    "| id | long | false |\n"
   ]
  },
  {
   "cell_type": "code",
   "execution_count": 3,
   "metadata": {},
   "outputs": [],
   "source": [
    "from pyspark.sql.types import *\n",
    "postSchema = StructType([\n",
    "  StructField(\"commentCount\", IntegerType(), True), \n",
    "  StructField(\"lastActivityDate\", TimestampType(), True), \n",
    "  StructField(\"ownerUserId\", LongType(), True),\n",
    "  StructField(\"body\", StringType(), True),\n",
    "  StructField(\"score\", IntegerType(), True),\n",
    "  StructField(\"creationDate\", TimestampType(), True),\n",
    "  StructField(\"viewCount\", IntegerType(), True),\n",
    "  StructField(\"title\", StringType(), True),\n",
    "  StructField(\"tags\", StringType(), True),\n",
    "  StructField(\"answerCount\", IntegerType(), True),\n",
    "  StructField(\"acceptedAnswerId\", LongType(), True),\n",
    "  StructField(\"postTypeId\", LongType(), True),\n",
    "  StructField(\"id\", LongType(), False)]\n",
    ")"
   ]
  },
  {
   "cell_type": "markdown",
   "metadata": {},
   "source": [
    "The following code will make parsing easier:"
   ]
  },
  {
   "cell_type": "code",
   "execution_count": 4,
   "metadata": {},
   "outputs": [],
   "source": [
    "from pyspark.sql import Row\n",
    "import datetime\n",
    "\n",
    "def toint(s):\n",
    "    try:\n",
    "        return int(s)\n",
    "    except:\n",
    "        return None\n",
    "    \n",
    "def tots(s):\n",
    "    try:\n",
    "        return datetime.datetime.strptime(s, \"%Y-%m-%d %H:%M:%S.%f\")\n",
    "    except:\n",
    "        return None\n",
    "\n",
    "def stringToRow(row):\n",
    "    r = row.split(\"~\")\n",
    "    return Row(toint(r[0]),\n",
    "               tots(r[1]),\n",
    "               toint(r[2]),\n",
    "               r[3],\n",
    "               toint(r[4]),\n",
    "               tots(r[5]),\n",
    "               toint(r[6]),\n",
    "               r[7],\n",
    "               r[8],\n",
    "               toint(r[9]),\n",
    "               toint(r[10]),\n",
    "               toint(r[11]),\n",
    "               int(r[12]))"
   ]
  },
  {
   "cell_type": "markdown",
   "metadata": {},
   "source": [
    "Now use the above methods to create an RDD of Rows and then a DataFrame with the above schema. Call it `postsDf`."
   ]
  },
  {
   "cell_type": "code",
   "execution_count": 5,
   "metadata": {},
   "outputs": [],
   "source": [
    "rowRDD = itPostsRows.map(lambda row: stringToRow(row))\n",
    "postsDf = spark.createDataFrame(rowRDD, postSchema)"
   ]
  },
  {
   "cell_type": "markdown",
   "metadata": {},
   "source": [
    "Print schema of the `postsDf` DataFrame."
   ]
  },
  {
   "cell_type": "code",
   "execution_count": 6,
   "metadata": {},
   "outputs": [
    {
     "name": "stdout",
     "output_type": "stream",
     "text": [
      "root\n",
      " |-- commentCount: integer (nullable = true)\n",
      " |-- lastActivityDate: timestamp (nullable = true)\n",
      " |-- ownerUserId: long (nullable = true)\n",
      " |-- body: string (nullable = true)\n",
      " |-- score: integer (nullable = true)\n",
      " |-- creationDate: timestamp (nullable = true)\n",
      " |-- viewCount: integer (nullable = true)\n",
      " |-- title: string (nullable = true)\n",
      " |-- tags: string (nullable = true)\n",
      " |-- answerCount: integer (nullable = true)\n",
      " |-- acceptedAnswerId: long (nullable = true)\n",
      " |-- postTypeId: long (nullable = true)\n",
      " |-- id: long (nullable = false)\n",
      "\n"
     ]
    }
   ],
   "source": [
    "postsDf.printSchema()"
   ]
  },
  {
   "cell_type": "markdown",
   "metadata": {
    "collapsed": true
   },
   "source": [
    "Print out the first 20 rows from the DataFrame."
   ]
  },
  {
   "cell_type": "code",
   "execution_count": 7,
   "metadata": {},
   "outputs": [
    {
     "name": "stdout",
     "output_type": "stream",
     "text": [
      "+------------+--------------------+-----------+--------------------+-----+--------------------+---------+--------------------+--------------------+-----------+----------------+----------+----+\n",
      "|commentCount|    lastActivityDate|ownerUserId|                body|score|        creationDate|viewCount|               title|                tags|answerCount|acceptedAnswerId|postTypeId|  id|\n",
      "+------------+--------------------+-----------+--------------------+-----+--------------------+---------+--------------------+--------------------+-----------+----------------+----------+----+\n",
      "|           4|2013-11-11 18:21:...|         17|&lt;p&gt;The infi...|   23|2013-11-10 19:37:...|     null|                    |                    |       null|            null|         2|1165|\n",
      "|           5|2013-11-10 20:31:...|         12|&lt;p&gt;Come cre...|    1|2013-11-10 19:44:...|       61|Cosa sapreste dir...| &lt;word-choice&gt;|          1|            null|         1|1166|\n",
      "|           2|2013-11-10 20:31:...|         17|&lt;p&gt;Il verbo...|    5|2013-11-10 19:58:...|     null|                    |                    |       null|            null|         2|1167|\n",
      "|           1|2014-07-25 13:15:...|        154|&lt;p&gt;As part ...|   11|2013-11-10 22:03:...|      187|Ironic constructi...|&lt;english-compa...|          4|            1170|         1|1168|\n",
      "|           0|2013-11-10 22:15:...|         70|&lt;p&gt;&lt;em&g...|    3|2013-11-10 22:15:...|     null|                    |                    |       null|            null|         2|1169|\n",
      "|           2|2013-11-10 22:17:...|         17|&lt;p&gt;There's ...|    8|2013-11-10 22:17:...|     null|                    |                    |       null|            null|         2|1170|\n",
      "|           1|2013-11-11 09:51:...|         63|&lt;p&gt;As other...|    3|2013-11-11 09:51:...|     null|                    |                    |       null|            null|         2|1171|\n",
      "|           1|2013-11-12 23:57:...|         63|&lt;p&gt;The expr...|    1|2013-11-11 10:09:...|     null|                    |                    |       null|            null|         2|1172|\n",
      "|           9|2014-01-05 11:13:...|         63|&lt;p&gt;When I w...|    5|2013-11-11 10:28:...|      122|Is &quot;scancell...|&lt;usage&gt;&lt;...|          3|            1181|         1|1173|\n",
      "|           0|2013-11-11 10:58:...|         18|&lt;p&gt;Wow, wha...|    5|2013-11-11 10:58:...|     null|                    |                    |       null|            null|         2|1174|\n",
      "|           1|2014-01-16 19:56:...|         63|&lt;p&gt;Suppose ...|    4|2013-11-11 11:31:...|      114|How should I tran...|&lt;usage&gt;&lt;...|          2|            1177|         1|1175|\n",
      "|           0|2013-11-11 14:36:...|         63|&lt;p&gt;Except w...|    3|2013-11-11 11:39:...|       58|Using a comma bet...|&lt;usage&gt;&lt;...|          2|            1182|         1|1176|\n",
      "|           3|2014-01-16 19:56:...|         71|&lt;p&gt;Both you...|    6|2013-11-11 11:57:...|     null|                    |                    |       null|            null|         2|1177|\n",
      "|           0|2013-11-11 12:00:...|         12|&lt;blockquote&gt...|    1|2013-11-11 12:00:...|     null|                    |                    |       null|            null|         2|1178|\n",
      "|           0|2013-11-12 11:24:...|         63|&lt;p&gt;Comparin...|    3|2013-11-11 12:58:...|       60|Using the conditi...|&lt;usage&gt;&lt;...|          2|            1180|         1|1179|\n",
      "|           4|2013-11-11 19:54:...|         18|&lt;p&gt;Using th...|    5|2013-11-11 13:48:...|     null|                    |                    |       null|            null|         2|1180|\n",
      "|           0|2013-11-11 18:20:...|        132|&lt;p&gt;I would ...|    8|2013-11-11 14:04:...|     null|                    |                    |       null|            null|         2|1181|\n",
      "|           1|2013-11-11 14:36:...|        132|&lt;p&gt;Putting ...|   11|2013-11-11 14:17:...|     null|                    |                    |       null|            null|         2|1182|\n",
      "|           2|2013-11-14 09:56:...|         22|&lt;p&gt;Many peo...|    6|2013-11-11 14:43:...|      321|Can Dante Alighie...|&lt;history&gt;&l...|          1|            1263|         1|1183|\n",
      "|           2|2013-11-11 23:23:...|        159|&lt;p&gt;Sono un'...|    7|2013-11-11 18:19:...|      138|origine dell'espr...|&lt;idioms&gt;&lt...|          2|            1185|         1|1184|\n",
      "+------------+--------------------+-----------+--------------------+-----+--------------------+---------+--------------------+--------------------+-----------+----------------+----------+----+\n",
      "only showing top 20 rows\n",
      "\n"
     ]
    }
   ],
   "source": [
    "postsDf.show()"
   ]
  },
  {
   "cell_type": "markdown",
   "metadata": {
    "collapsed": true
   },
   "source": [
    "Print out the first 5 rows."
   ]
  },
  {
   "cell_type": "code",
   "execution_count": 13,
   "metadata": {},
   "outputs": [
    {
     "name": "stdout",
     "output_type": "stream",
     "text": [
      "+------------+--------------------+-----------+--------------------+-----+--------------------+---------+--------------------+--------------------+-----------+----------------+----------+----+\n",
      "|commentCount|    lastActivityDate|ownerUserId|                body|score|        creationDate|viewCount|               title|                tags|answerCount|acceptedAnswerId|postTypeId|  id|\n",
      "+------------+--------------------+-----------+--------------------+-----+--------------------+---------+--------------------+--------------------+-----------+----------------+----------+----+\n",
      "|           4|2013-11-11 18:21:...|         17|&lt;p&gt;The infi...|   23|2013-11-10 19:37:...|     null|                    |                    |       null|            null|         2|1165|\n",
      "|           5|2013-11-10 20:31:...|         12|&lt;p&gt;Come cre...|    1|2013-11-10 19:44:...|       61|Cosa sapreste dir...| &lt;word-choice&gt;|          1|            null|         1|1166|\n",
      "|           2|2013-11-10 20:31:...|         17|&lt;p&gt;Il verbo...|    5|2013-11-10 19:58:...|     null|                    |                    |       null|            null|         2|1167|\n",
      "|           1|2014-07-25 13:15:...|        154|&lt;p&gt;As part ...|   11|2013-11-10 22:03:...|      187|Ironic constructi...|&lt;english-compa...|          4|            1170|         1|1168|\n",
      "|           0|2013-11-10 22:15:...|         70|&lt;p&gt;&lt;em&g...|    3|2013-11-10 22:15:...|     null|                    |                    |       null|            null|         2|1169|\n",
      "+------------+--------------------+-----------+--------------------+-----+--------------------+---------+--------------------+--------------------+-----------+----------------+----------+----+\n",
      "only showing top 5 rows\n",
      "\n"
     ]
    }
   ],
   "source": [
    "postsDf.show(5)"
   ]
  },
  {
   "cell_type": "markdown",
   "metadata": {
    "collapsed": true
   },
   "source": [
    "Get the columns from `postsDf`."
   ]
  },
  {
   "cell_type": "code",
   "execution_count": 15,
   "metadata": {},
   "outputs": [
    {
     "data": {
      "text/plain": [
       "['commentCount',\n",
       " 'lastActivityDate',\n",
       " 'ownerUserId',\n",
       " 'body',\n",
       " 'score',\n",
       " 'creationDate',\n",
       " 'viewCount',\n",
       " 'title',\n",
       " 'tags',\n",
       " 'answerCount',\n",
       " 'acceptedAnswerId',\n",
       " 'postTypeId',\n",
       " 'id']"
      ]
     },
     "execution_count": 15,
     "metadata": {},
     "output_type": "execute_result"
    }
   ],
   "source": [
    "postsDf.columns"
   ]
  },
  {
   "cell_type": "markdown",
   "metadata": {
    "collapsed": true
   },
   "source": [
    "Print out 20 rows of `id` and `body` columns from `postsDf`."
   ]
  },
  {
   "cell_type": "code",
   "execution_count": 16,
   "metadata": {},
   "outputs": [
    {
     "name": "stdout",
     "output_type": "stream",
     "text": [
      "+----+--------------------+\n",
      "|  id|                body|\n",
      "+----+--------------------+\n",
      "|1165|&lt;p&gt;The infi...|\n",
      "|1166|&lt;p&gt;Come cre...|\n",
      "|1167|&lt;p&gt;Il verbo...|\n",
      "|1168|&lt;p&gt;As part ...|\n",
      "|1169|&lt;p&gt;&lt;em&g...|\n",
      "|1170|&lt;p&gt;There's ...|\n",
      "|1171|&lt;p&gt;As other...|\n",
      "|1172|&lt;p&gt;The expr...|\n",
      "|1173|&lt;p&gt;When I w...|\n",
      "|1174|&lt;p&gt;Wow, wha...|\n",
      "|1175|&lt;p&gt;Suppose ...|\n",
      "|1176|&lt;p&gt;Except w...|\n",
      "|1177|&lt;p&gt;Both you...|\n",
      "|1178|&lt;blockquote&gt...|\n",
      "|1179|&lt;p&gt;Comparin...|\n",
      "|1180|&lt;p&gt;Using th...|\n",
      "|1181|&lt;p&gt;I would ...|\n",
      "|1182|&lt;p&gt;Putting ...|\n",
      "|1183|&lt;p&gt;Many peo...|\n",
      "|1184|&lt;p&gt;Sono un'...|\n",
      "+----+--------------------+\n",
      "only showing top 20 rows\n",
      "\n"
     ]
    }
   ],
   "source": [
    "postsDf.select(postsDf.id, postsDf.body).show()"
   ]
  },
  {
   "cell_type": "markdown",
   "metadata": {},
   "source": [
    "As you can see, the body column contains escaped HTML characters. We can make that more readable by applying Python's `html.unescape` method. Write a UDF and use it to unescape text from the body column. Preserve the name of the column (you will need to use a temporary name, `drop` the old column, then rename the new one)."
   ]
  },
  {
   "cell_type": "code",
   "execution_count": 8,
   "metadata": {},
   "outputs": [],
   "source": [
    "import html\n",
    "unescape = spark.udf.register('unescape', lambda s: html.unescape(s))\n",
    "postsDf = postsDf.withColumn('bodynew', unescape(postsDf.body)).drop(\"body\").withColumnRenamed('bodynew', 'body')"
   ]
  },
  {
   "cell_type": "markdown",
   "metadata": {},
   "source": [
    "How many posts contain the word \"Italiano\"?"
   ]
  },
  {
   "cell_type": "code",
   "execution_count": 9,
   "metadata": {},
   "outputs": [
    {
     "data": {
      "text/plain": [
       "46"
      ]
     },
     "execution_count": 9,
     "metadata": {},
     "output_type": "execute_result"
    }
   ],
   "source": [
    "postsDf.where(postsDf.body.contains(\"Italiano\")).count()"
   ]
  },
  {
   "cell_type": "markdown",
   "metadata": {},
   "source": [
    "How many questions don't have an accepted answer? (Hint: `postTypeId` is 1 and `acceptedAnswerId` is null)"
   ]
  },
  {
   "cell_type": "code",
   "execution_count": 10,
   "metadata": {},
   "outputs": [
    {
     "data": {
      "text/plain": [
       "152"
      ]
     },
     "execution_count": 10,
     "metadata": {},
     "output_type": "execute_result"
    }
   ],
   "source": [
    "postsDf.filter((postsDf.postTypeId == 1) & (postsDf.acceptedAnswerId.isNull())).count()"
   ]
  },
  {
   "cell_type": "markdown",
   "metadata": {},
   "source": [
    "Get the first 10 bodies of such questions. (Hint: use `limit`)"
   ]
  },
  {
   "cell_type": "code",
   "execution_count": 11,
   "metadata": {},
   "outputs": [
    {
     "data": {
      "text/plain": [
       "['<p>Come credo sia conosciuto da tutti quelli che usano viaggiare con l\\'automobile, molti italiani hanno uno strano rapporto con gli abbaglianti; alcuni li amano così tanto che preferiscono mantenerli sempre accesi, altri invece li usano per segnalare, se non addirittura per comunicare informazioni di vario genere, dalla presenza di autovelox alla protesta per presunte violazioni del codice della strada.</p><p>Al di lá delle considerazioni e dei commenti circa queste abitudini, mi piacerebbe sapere se il verbo \"sfanagliare\" è normalmente usato, e compreso, in tutte le regioni italiane o se, magari, ci sono altri verbi in uso, purchè simpatici come quello.</p><p>Laddove qualcuno non avesse compreso l\\'uso del aforementioned verbo, ecco un esempio:</p><blockquote>  <p>\"Ehi!\" - dice il marito a sua moglie - \"Quello li mi sta sfanagliando, st***o!\"</p>    <p>E la moglie, \"Caro, rallenta; magari più avanti c\\'è un autovelox, cribbio!\"</p></blockquote>',\n",
       " '<p>Quando soggiorno in Emilia-Romagna sento spesso dire \"mi dai il tiro\".</p><p>Considerato che ciò accade quando qualcuno chiede a qualcun altro di aprire il portone di un edificio, sapreste dirmi qual è l\\'origine di quest\\'espressione e se essa viene compresa anche al di fuori dell\\'ambito regionale che ho indicato?</p>',\n",
       " \"<p>Why do Italians respond to 'grazie' with 'di niente'?</p>\",\n",
       " '<p>Are \"qui\" and \"qua\" entirely interchangeable? If not, could you cite general cases in which they are not?</p>',\n",
       " '<p>Giulia e Arianna parlano di Laura:</p><blockquote>  <p>Giulia: \"Laura è eccessivamente impegnata nelle questioni sociali\".</p>    <p>Arianna: \"Si, è vero! Il suo impegno <strong><em>acca 24</em></strong> inizia proprio ad  urtarmi\".</p>    <p>Giulia: \"Cosaaa! <strong><em>acca 24</em></strong>?!\"</p></blockquote><p>Come si evince dal dialogo descritto, Giulia non comprende cosa significhi <strong><em>acca 24</em></strong>, forse perché è un espressione che non si usa nei luoghi in cui ha vissuto.</p><p>Sapreste indicarmi se l\\'espressione <strong><em>acca24</em></strong> è comunemente compresa in Italia, oppure se il suo uso è limitato ad alcune regioni?</p>',\n",
       " '<p>Sapreste indicarmi se \"<em>Permangono le tratte saltate o in ritardo</em>\", frase scritta nell\\'edizione odierna del quotidiano <em><a href=\"http://www.lastampa.it/2013/11/12/italia/cronache/maltempo-due-morti-nelle-marche-freddo-e-vento-sferzano-tutta-litalia-zQBoaAUIIB9dKDG4OZrPqI/pagina.html\" rel=\"nofollow\">La Stampa</a></em>, è un frammento intellegibile, o sintatticamente corretto?</p><blockquote>  <p><strong>Permangono le tratte saltate o in ritardo</strong> per i collegamenti navali, a causa delle condizioni del mare.</p></blockquote><p>Certo, dal contesto si comprende che il giornalista voglia riferirsi alla permanenza delle condizioni che impediscono il regolare servizio di collegamento marittimo fra l\\'Italia e la Sardegna, ma è mai possibile che si possa scrivere questa informazione in quel modo?</p><p>Quali sono, if any, gli errori di sintassi? Più precisamente, per esempio, possono \"le tratte saltate\", e che quindi sono già \"saltate\", permanere \"saltate\" nel tempo?</p>',\n",
       " '<p>In Italian there\\'s the usage of \"darsi del tu\" (referring to your interlocutor in second person singular) and \"darsi del lei\" (using instead the feminine third person singular).</p><p>What\\'s the difference? In what contexts should I prefer one form over the other? What is the origin of these forms? And are there other pronominal weridnesses I should be aware of?</p>',\n",
       " '<p>Conoscete quali siano le ragioni per le quali alcuni, cosiddetti, <em>ultras</em> nel rivolgersi alle tifoserie delle squadre loro avversarie, dicono o intonano questo ritornello</p><blockquote>  <p>Oah! Oah! <em>Vi spezziamo le reni</em> ... Oah! Oah! <em>Vi spezziamo le reni</em> ... Oah! Oah! <em>Vi spezziamo le reni</em> ...</p></blockquote><p>Cioé, perché il riferimento è proprio ai reni, che chiamano \"le reni\"?</p><p>Dopotutto, loro, quegli <em>ultras</em>, potrebbero dire \"vi spacchiamo la testa\" o \"vi rompiamo le gambe\" o, ancora — volendo rifersi ad un organo interno — \"vi rompiamo il cranio / la milza / il fegato <em>and so on</em>\", ma no, no; loro citano i reni. Perché?</p>',\n",
       " '<p>Vivo in Italia da trentun anni e ricordo che un tempo gli spazzini, coloro che puliscono le strade e i marciapiedi, si chiamavano spazzini. Sennonché sembra che da alcuni anni a questa parte il termine <em>de quo</em> sia in disuso, essendo stato sostituito dalla locuzione \"operatore ecologico\".</p><p>Sapreste dirmi quali siano le origini di questa evoluzione lessicale, magari mostrando un Ngram che la evidenzi?</p><p>Non sono un nostalgico, ma, dopo tutto, non posso non osservare che le città italiane erano molto più pulite quando gli \"operatori ecologici\" si chiamavano \"spazzini\", though.</p>',\n",
       " \"<blockquote>  <ol>  <li><p>Sia i coperchi che le pentole sono rossi.</p></li>  <li><p>Sia i coperchi che le pentole sono rosse.</p></li>  </ol></blockquote><p>Con cosa dovrebbe concordare il colore delle pentole e dei coperchi?</p><blockquote>  <p>a. con pentole perché le pentole sono più grandi dei coperchi (1 is wrong);</p>    <p>b. con coperchi perché il genere maschile prevale sul genere femminile (1 is right);</p>    <p>c. con coperchi perché i coperchi stanno sopra le pentole (1 is right);</p>    <p>d. con pentole perché le pentole precedono immediatamente prima l'aggettivo (1 is wrong).</p></blockquote>\"]"
      ]
     },
     "execution_count": 11,
     "metadata": {},
     "output_type": "execute_result"
    }
   ],
   "source": [
    "import html\n",
    "[html.unescape(r.body) for r in postsDf.filter((postsDf.postTypeId == 1) & (postsDf.acceptedAnswerId.isNull())).limit(10).select(\"body\").collect()]"
   ]
  },
  {
   "cell_type": "markdown",
   "metadata": {
    "collapsed": true
   },
   "source": [
    "Calculate \"views per score ratio\" (number of views needed to increase score by one) of questions (postTypeId is 1) as column \"vsratio\" and show posts whose \"vsratio\" is less than 5."
   ]
  },
  {
   "cell_type": "code",
   "execution_count": 12,
   "metadata": {},
   "outputs": [
    {
     "name": "stdout",
     "output_type": "stream",
     "text": [
      "+------------+--------------------+-----------+-----+--------------------+---------+--------------------+--------------------+-----------+----------------+----------+----+--------------------+-------------------+\n",
      "|commentCount|    lastActivityDate|ownerUserId|score|        creationDate|viewCount|               title|                tags|answerCount|acceptedAnswerId|postTypeId|  id|                body|              ratio|\n",
      "+------------+--------------------+-----------+-----+--------------------+---------+--------------------+--------------------+-----------+----------------+----------+----+--------------------+-------------------+\n",
      "|           1|2013-11-12 12:53:...|         99|   -3|2013-11-12 10:57:...|       68|Past participle o...|&lt;grammar&gt;&l...|          3|            1216|         1|1203|<p>I can't figure...|-22.666666666666668|\n",
      "|           6|2013-11-26 19:12:...|         12|   -3|2013-11-21 21:12:...|       79|È &quot;memorioso...|  &lt;word-usage&gt;|          2|            null|         1|1347|<p>Sento che alcu...|-26.333333333333332|\n",
      "|           2|2013-12-08 20:38:...|         12|   -2|2013-12-07 22:04:...|       36|'sull'orlo del co...| &lt;word-choice&gt;|          1|            1459|         1|1452|<p><a href=\"http:...|              -18.0|\n",
      "|           0|2014-09-13 12:43:...|        193|    5|2014-09-13 12:43:...|       21|Verbo impersonale...|&lt;grammar&gt;&l...|          0|            null|         1|2346|<p>Ho letto la se...|                4.2|\n",
      "+------------+--------------------+-----------+-----+--------------------+---------+--------------------+--------------------+-----------+----------------+----------+----+--------------------+-------------------+\n",
      "\n"
     ]
    }
   ],
   "source": [
    "postsDf.filter(postsDf.postTypeId == 1).\\\n",
    "  withColumn(\"ratio\", postsDf.viewCount / postsDf.score).\\\n",
    "  where(\"ratio < 5\").show()"
   ]
  },
  {
   "cell_type": "markdown",
   "metadata": {
    "collapsed": true
   },
   "source": [
    "Find the body of the question that was active for the largest amount of time. (Use the `datediff` function to find the difference between `lastActivityDate` and `creationDate`.) First import pyspark functions as follows:"
   ]
  },
  {
   "cell_type": "code",
   "execution_count": 13,
   "metadata": {},
   "outputs": [],
   "source": [
    "import pyspark.sql.functions as F"
   ]
  },
  {
   "cell_type": "code",
   "execution_count": 14,
   "metadata": {},
   "outputs": [
    {
     "data": {
      "text/plain": [
       "'<p>The plural of <em>braccio</em> is <em>braccia</em>, and the plural of <em>avambraccio</em> is <em>avambracci</em>.</p><p>Why are the plural of those words so different, if they both are referring to parts of the human body, and <em>avambraccio</em> derives from <em>braccio</em>?</p>'"
      ]
     },
     "execution_count": 14,
     "metadata": {},
     "output_type": "execute_result"
    }
   ],
   "source": [
    "ddiffdf = postsDf.filter(postsDf.postTypeId == 1).\\\n",
    "  withColumn(\"activePeriod\", F.datediff(postsDf.lastActivityDate, postsDf.creationDate))\n",
    "ddiffdf.orderBy(ddiffdf.activePeriod.desc()).head().body"
   ]
  },
  {
   "cell_type": "markdown",
   "metadata": {},
   "source": [
    "Find the minimum, maximum and average score of all *questions* and the count of all questions. Give those columns names \"Minimum score\", \"Maximum score\", \"Average score\" and \"Total count\", respectively. (Hint: use `alias` for renaming columns.)"
   ]
  },
  {
   "cell_type": "code",
   "execution_count": 15,
   "metadata": {},
   "outputs": [
    {
     "name": "stdout",
     "output_type": "stream",
     "text": [
      "+-------------+-------------+-----------------+-----------+\n",
      "|Minimum score|Maximum score|    Average score|Total count|\n",
      "+-------------+-------------+-----------------+-----------+\n",
      "|           -3|           20|4.735294117647059|        374|\n",
      "+-------------+-------------+-----------------+-----------+\n",
      "\n"
     ]
    }
   ],
   "source": [
    "postsDf.filter(postsDf.postTypeId == 1).select(F.min(postsDf.score).alias(\"Minimum score\"), \n",
    "  F.max(postsDf.score).alias(\"Maximum score\"),\n",
    "  F.avg(postsDf.score).alias(\"Average score\"), \n",
    "  F.count(postsDf.score).alias(\"Total count\")).show()"
   ]
  },
  {
   "cell_type": "markdown",
   "metadata": {},
   "source": [
    "Find the number of posts per ownerUserId, tags and postTypeId (use groupBy) and find 10 rows with largest counts."
   ]
  },
  {
   "cell_type": "code",
   "execution_count": 16,
   "metadata": {},
   "outputs": [
    {
     "name": "stdout",
     "output_type": "stream",
     "text": [
      "+-----------+----+----------+-----+\n",
      "|ownerUserId|tags|postTypeId|count|\n",
      "+-----------+----+----------+-----+\n",
      "|        193|    |         2|   74|\n",
      "|         37|    |         2|   59|\n",
      "|         70|    |         2|   52|\n",
      "|          8|    |         4|   52|\n",
      "|          8|    |         5|   52|\n",
      "|          8|    |         2|   36|\n",
      "|         95|    |         2|   29|\n",
      "|         17|    |         2|   28|\n",
      "|         63|    |         2|   28|\n",
      "|         18|    |         2|   27|\n",
      "+-----------+----+----------+-----+\n",
      "only showing top 10 rows\n",
      "\n"
     ]
    }
   ],
   "source": [
    "postsDf.groupBy(postsDf.ownerUserId, postsDf.tags, postsDf.postTypeId).\\\n",
    "  count().orderBy(F.col('count').desc()).show(10)"
   ]
  },
  {
   "cell_type": "markdown",
   "metadata": {},
   "source": [
    "Find the last activity date and the maximum post score per user."
   ]
  },
  {
   "cell_type": "code",
   "execution_count": 44,
   "metadata": {},
   "outputs": [
    {
     "name": "stdout",
     "output_type": "stream",
     "text": [
      "+-----------+---------------------+----------+\n",
      "|ownerUserId|max(lastActivityDate)|max(score)|\n",
      "+-----------+---------------------+----------+\n",
      "|        270| 2014-02-25 17:43:...|         1|\n",
      "|        730| 2014-07-12 00:58:...|        12|\n",
      "|        720| 2014-07-07 21:33:...|         1|\n",
      "|         19| 2013-11-27 14:21:...|        10|\n",
      "|        348| 2014-01-06 13:00:...|         5|\n",
      "|        415| 2014-08-25 00:23:...|         5|\n",
      "|        656| 2014-05-27 19:30:...|         9|\n",
      "|        736| 2014-07-15 11:09:...|         1|\n",
      "|         22| 2014-09-10 07:15:...|        19|\n",
      "|        198| 2013-12-18 15:57:...|         5|\n",
      "+-----------+---------------------+----------+\n",
      "only showing top 10 rows\n",
      "\n"
     ]
    }
   ],
   "source": [
    "postsDf.groupBy(postsDf.ownerUserId).\\\n",
    "  agg(F.max(postsDf.lastActivityDate), F.max(postsDf.score)).show(10)"
   ]
  },
  {
   "cell_type": "markdown",
   "metadata": {},
   "source": [
    "Now for each user and activity find the time elapsed since their last activity in minutes (use `pyspark.sql.window.Window` and `lag`)."
   ]
  },
  {
   "cell_type": "code",
   "execution_count": 27,
   "metadata": {},
   "outputs": [
    {
     "name": "stdout",
     "output_type": "stream",
     "text": [
      "+-----------+-----------------------+--------------+\n",
      "|ownerUserId|lastActivityDate       |inactivePeriod|\n",
      "+-----------+-----------------------+--------------+\n",
      "|270        |2014-02-25 17:16:13.043|null          |\n",
      "|270        |2014-02-25 17:43:08.443|26            |\n",
      "|730        |2014-07-12 00:58:12.843|null          |\n",
      "|720        |2014-07-07 21:33:30.99 |null          |\n",
      "|19         |2013-11-12 11:24:03.19 |null          |\n",
      "|19         |2013-11-12 11:24:33.87 |0             |\n",
      "|19         |2013-11-12 11:48:52.947|24            |\n",
      "|19         |2013-11-12 11:57:44.983|8             |\n",
      "|19         |2013-11-12 12:14:42.707|16            |\n",
      "|19         |2013-11-12 16:38:23.007|263           |\n",
      "|19         |2013-11-12 17:42:52.417|64            |\n",
      "|19         |2013-11-13 00:32:20.64 |409           |\n",
      "|19         |2013-11-13 18:45:13.39 |1092          |\n",
      "|19         |2013-11-13 18:50:38.11 |5             |\n",
      "|19         |2013-11-13 19:16:25.333|25            |\n",
      "|19         |2013-11-19 18:01:28.993|8565          |\n",
      "|19         |2013-11-27 14:21:34.69 |11300         |\n",
      "|348        |2014-01-06 13:00:26.597|null          |\n",
      "|415        |2014-02-03 01:17:29.84 |null          |\n",
      "|415        |2014-02-03 01:45:55.673|28            |\n",
      "+-----------+-----------------------+--------------+\n",
      "only showing top 20 rows\n",
      "\n"
     ]
    }
   ],
   "source": [
    "from pyspark.sql.window import Window\n",
    "postsDf.select('ownerUserId', 'lastActivityDate', \n",
    "    ((postsDf.lastActivityDate.cast('long') - \n",
    "          F.lag(postsDf.lastActivityDate).over(Window.partitionBy('ownerUserId').orderBy('lastActivityDate')).cast('long')\n",
    "      )/60).cast('int').alias('inactivePeriod')).\\\n",
    "  show(20, False)"
   ]
  },
  {
   "cell_type": "markdown",
   "metadata": {},
   "source": [
    "Load `/home/spark/first-edition/ch05/italianVotes.csv` file into an RDD called `itVotesRaw` and split each line by tilda sign (\"~\")."
   ]
  },
  {
   "cell_type": "code",
   "execution_count": 45,
   "metadata": {},
   "outputs": [],
   "source": [
    "itVotesRaw = sc.textFile(\"/home/spark/first-edition/ch05/italianVotes.csv\").\\\n",
    "  map(lambda x: x.split(\"~\"))"
   ]
  },
  {
   "cell_type": "markdown",
   "metadata": {},
   "source": [
    "Execute the following cell to create the `votesDf` DataFrame."
   ]
  },
  {
   "cell_type": "code",
   "execution_count": 49,
   "metadata": {},
   "outputs": [],
   "source": [
    "itVotesRows = itVotesRaw.map(lambda row: Row(int(row[0]), int(row[1]), \n",
    "  int(row[2]), datetime.datetime.strptime(row[3], \"%Y-%m-%d %H:%M:%S.%f\")))\n",
    "votesSchema = StructType([\n",
    "  StructField(\"id\", LongType(), False),\n",
    "  StructField(\"postId\", LongType(), False),\n",
    "  StructField(\"voteTypeId\", IntegerType(), False),\n",
    "  StructField(\"creationDate\", TimestampType(), False)])\n",
    "votesDf = spark.createDataFrame(itVotesRows, votesSchema)"
   ]
  },
  {
   "cell_type": "markdown",
   "metadata": {},
   "source": [
    "Look at the contents of `votesDf`."
   ]
  },
  {
   "cell_type": "code",
   "execution_count": 50,
   "metadata": {},
   "outputs": [
    {
     "name": "stdout",
     "output_type": "stream",
     "text": [
      "+----+------+----------+-------------------+\n",
      "|  id|postId|voteTypeId|       creationDate|\n",
      "+----+------+----------+-------------------+\n",
      "|2657|   135|         2|2013-11-22 00:00:00|\n",
      "|2658|   142|         2|2013-11-22 00:00:00|\n",
      "|2659|   142|         1|2013-11-22 00:00:00|\n",
      "|2660|   140|         2|2013-11-22 00:00:00|\n",
      "|2661|   140|         1|2013-11-22 00:00:00|\n",
      "|2662|  1354|         2|2013-11-22 00:00:00|\n",
      "|2663|  1356|         2|2013-11-22 00:00:00|\n",
      "|2664|  1353|         2|2013-11-22 00:00:00|\n",
      "|2665|  1351|         2|2013-11-22 00:00:00|\n",
      "|2667|  1357|         2|2013-11-22 00:00:00|\n",
      "|2668|  1357|         2|2013-11-22 00:00:00|\n",
      "|2669|  1351|         2|2013-11-22 00:00:00|\n",
      "|2670|  1351|         1|2013-11-22 00:00:00|\n",
      "|2671|  1352|         2|2013-11-22 00:00:00|\n",
      "|2672|  1349|         2|2013-11-22 00:00:00|\n",
      "|2673|  1357|         2|2013-11-22 00:00:00|\n",
      "|2674|  1342|         2|2013-11-22 00:00:00|\n",
      "|2675|  1340|         2|2013-11-22 00:00:00|\n",
      "|2676|  1321|         2|2013-11-22 00:00:00|\n",
      "|2677|  1314|         2|2013-11-22 00:00:00|\n",
      "+----+------+----------+-------------------+\n",
      "only showing top 20 rows\n",
      "\n"
     ]
    }
   ],
   "source": [
    "votesDf.show()"
   ]
  },
  {
   "cell_type": "markdown",
   "metadata": {},
   "source": [
    "The file contains votes (id, vote type and vote creation date) and references posts by their ID.    \n",
    "   \n",
    "Join `postsDf` and `votesDf` by post ID and show the resulting DataFrame's contents."
   ]
  },
  {
   "cell_type": "code",
   "execution_count": 51,
   "metadata": {},
   "outputs": [
    {
     "name": "stdout",
     "output_type": "stream",
     "text": [
      "+------------+--------------------+-----------+--------------------+-----+--------------------+---------+--------------------+--------------------+-----------+----------------+----------+----+----+------+----------+-------------------+\n",
      "|commentCount|    lastActivityDate|ownerUserId|                body|score|        creationDate|viewCount|               title|                tags|answerCount|acceptedAnswerId|postTypeId|  id|  id|postId|voteTypeId|       creationDate|\n",
      "+------------+--------------------+-----------+--------------------+-----+--------------------+---------+--------------------+--------------------+-----------+----------------+----------+----+----+------+----------+-------------------+\n",
      "|           1|2013-11-06 00:22:...|         18|&lt;p&gt;&quot;De...|    3|2013-11-06 00:05:...|     null|                    |                    |       null|            null|         2|  26|  62|    26|         2|2013-11-06 00:00:00|\n",
      "|           1|2013-11-06 00:22:...|         18|&lt;p&gt;&quot;De...|    3|2013-11-06 00:05:...|     null|                    |                    |       null|            null|         2|  26|  73|    26|         2|2013-11-06 00:00:00|\n",
      "|           1|2013-11-06 00:22:...|         18|&lt;p&gt;&quot;De...|    3|2013-11-06 00:05:...|     null|                    |                    |       null|            null|         2|  26| 566|    26|         2|2013-11-09 00:00:00|\n",
      "|           0|2013-11-07 23:59:...|         56|&lt;p&gt;I know t...|   10|2013-11-06 01:16:...|      143|When can 'ci' be ...|    &lt;pronouns&gt;|          2|              30|         1|  29|3528|    29|         2|2013-12-20 00:00:00|\n",
      "|           0|2013-11-07 23:59:...|         56|&lt;p&gt;I know t...|   10|2013-11-06 01:16:...|      143|When can 'ci' be ...|    &lt;pronouns&gt;|          2|              30|         1|  29|3904|    29|         2|2014-01-05 00:00:00|\n",
      "|           0|2013-11-07 23:59:...|         56|&lt;p&gt;I know t...|   10|2013-11-06 01:16:...|      143|When can 'ci' be ...|    &lt;pronouns&gt;|          2|              30|         1|  29|  64|    29|         2|2013-11-06 00:00:00|\n",
      "|           0|2013-11-07 23:59:...|         56|&lt;p&gt;I know t...|   10|2013-11-06 01:16:...|      143|When can 'ci' be ...|    &lt;pronouns&gt;|          2|              30|         1|  29|  84|    29|         2|2013-11-06 00:00:00|\n",
      "|           0|2013-11-07 23:59:...|         56|&lt;p&gt;I know t...|   10|2013-11-06 01:16:...|      143|When can 'ci' be ...|    &lt;pronouns&gt;|          2|              30|         1|  29| 127|    29|         2|2013-11-06 00:00:00|\n",
      "|           0|2013-11-07 23:59:...|         56|&lt;p&gt;I know t...|   10|2013-11-06 01:16:...|      143|When can 'ci' be ...|    &lt;pronouns&gt;|          2|              30|         1|  29| 142|    29|         2|2013-11-06 00:00:00|\n",
      "|           0|2013-11-07 23:59:...|         56|&lt;p&gt;I know t...|   10|2013-11-06 01:16:...|      143|When can 'ci' be ...|    &lt;pronouns&gt;|          2|              30|         1|  29| 152|    29|         2|2013-11-06 00:00:00|\n",
      "|           0|2013-11-07 23:59:...|         56|&lt;p&gt;I know t...|   10|2013-11-06 01:16:...|      143|When can 'ci' be ...|    &lt;pronouns&gt;|          2|              30|         1|  29| 213|    29|         2|2013-11-06 00:00:00|\n",
      "|           0|2013-11-07 23:59:...|         56|&lt;p&gt;I know t...|   10|2013-11-06 01:16:...|      143|When can 'ci' be ...|    &lt;pronouns&gt;|          2|              30|         1|  29| 401|    29|        16|2013-11-07 00:00:00|\n",
      "|           0|2013-11-07 23:59:...|         56|&lt;p&gt;I know t...|   10|2013-11-06 01:16:...|      143|When can 'ci' be ...|    &lt;pronouns&gt;|          2|              30|         1|  29| 414|    29|         5|2013-11-07 00:00:00|\n",
      "|           0|2013-11-07 23:59:...|         56|&lt;p&gt;I know t...|   10|2013-11-06 01:16:...|      143|When can 'ci' be ...|    &lt;pronouns&gt;|          2|              30|         1|  29| 470|    29|        16|2013-11-07 00:00:00|\n",
      "|           0|2013-11-07 23:59:...|         56|&lt;p&gt;I know t...|   10|2013-11-06 01:16:...|      143|When can 'ci' be ...|    &lt;pronouns&gt;|          2|              30|         1|  29| 558|    29|         2|2013-11-09 00:00:00|\n",
      "|           0|2013-11-07 23:59:...|         56|&lt;p&gt;I know t...|   10|2013-11-06 01:16:...|      143|When can 'ci' be ...|    &lt;pronouns&gt;|          2|              30|         1|  29|1765|    29|         2|2013-11-11 00:00:00|\n",
      "|           1|2014-03-05 16:35:...|         12|&lt;blockquote&gt...|    1|2014-02-15 15:13:...|      125|Qual è la forma c...|&lt;word-choice&g...|          1|            null|         1|1697|4557|  1697|         2|2014-02-15 00:00:00|\n",
      "|          11|2014-05-07 16:57:...|         37|&lt;p&gt;No poeti...|   11|2014-05-07 16:24:...|     null|                    |                    |       null|            null|         2|1950|5423|  1950|         1|2014-05-07 00:00:00|\n",
      "|          11|2014-05-07 16:57:...|         37|&lt;p&gt;No poeti...|   11|2014-05-07 16:24:...|     null|                    |                    |       null|            null|         2|1950|5424|  1950|         2|2014-05-07 00:00:00|\n",
      "|          11|2014-05-07 16:57:...|         37|&lt;p&gt;No poeti...|   11|2014-05-07 16:24:...|     null|                    |                    |       null|            null|         2|1950|5426|  1950|         2|2014-05-07 00:00:00|\n",
      "+------------+--------------------+-----------+--------------------+-----+--------------------+---------+--------------------+--------------------+-----------+----------------+----------+----+----+------+----------+-------------------+\n",
      "only showing top 20 rows\n",
      "\n"
     ]
    }
   ],
   "source": [
    "postsDf.join(votesDf, postsDf[\"id\"] == votesDf[\"postId\"]).show()"
   ]
  },
  {
   "cell_type": "markdown",
   "metadata": {},
   "source": [
    "Now you have several columns with identical names, which is not good. Repeat the join, but rename columns `id` and `creationDate` of `votesDf` to something unique. (Hint: use `withColumnRenamed`)"
   ]
  },
  {
   "cell_type": "code",
   "execution_count": 52,
   "metadata": {},
   "outputs": [
    {
     "name": "stdout",
     "output_type": "stream",
     "text": [
      "+------------+--------------------+-----------+--------------------+-----+--------------------+---------+--------------------+--------------------+-----------+----------------+----------+----+------+------+----------+-------------------+\n",
      "|commentCount|    lastActivityDate|ownerUserId|                body|score|        creationDate|viewCount|               title|                tags|answerCount|acceptedAnswerId|postTypeId|  id|voteId|postId|voteTypeId|   voteCreationDate|\n",
      "+------------+--------------------+-----------+--------------------+-----+--------------------+---------+--------------------+--------------------+-----------+----------------+----------+----+------+------+----------+-------------------+\n",
      "|           1|2013-11-06 00:22:...|         18|&lt;p&gt;&quot;De...|    3|2013-11-06 00:05:...|     null|                    |                    |       null|            null|         2|  26|    62|    26|         2|2013-11-06 00:00:00|\n",
      "|           1|2013-11-06 00:22:...|         18|&lt;p&gt;&quot;De...|    3|2013-11-06 00:05:...|     null|                    |                    |       null|            null|         2|  26|    73|    26|         2|2013-11-06 00:00:00|\n",
      "|           1|2013-11-06 00:22:...|         18|&lt;p&gt;&quot;De...|    3|2013-11-06 00:05:...|     null|                    |                    |       null|            null|         2|  26|   566|    26|         2|2013-11-09 00:00:00|\n",
      "|           0|2013-11-07 23:59:...|         56|&lt;p&gt;I know t...|   10|2013-11-06 01:16:...|      143|When can 'ci' be ...|    &lt;pronouns&gt;|          2|              30|         1|  29|  3528|    29|         2|2013-12-20 00:00:00|\n",
      "|           0|2013-11-07 23:59:...|         56|&lt;p&gt;I know t...|   10|2013-11-06 01:16:...|      143|When can 'ci' be ...|    &lt;pronouns&gt;|          2|              30|         1|  29|  3904|    29|         2|2014-01-05 00:00:00|\n",
      "|           0|2013-11-07 23:59:...|         56|&lt;p&gt;I know t...|   10|2013-11-06 01:16:...|      143|When can 'ci' be ...|    &lt;pronouns&gt;|          2|              30|         1|  29|    64|    29|         2|2013-11-06 00:00:00|\n",
      "|           0|2013-11-07 23:59:...|         56|&lt;p&gt;I know t...|   10|2013-11-06 01:16:...|      143|When can 'ci' be ...|    &lt;pronouns&gt;|          2|              30|         1|  29|    84|    29|         2|2013-11-06 00:00:00|\n",
      "|           0|2013-11-07 23:59:...|         56|&lt;p&gt;I know t...|   10|2013-11-06 01:16:...|      143|When can 'ci' be ...|    &lt;pronouns&gt;|          2|              30|         1|  29|   127|    29|         2|2013-11-06 00:00:00|\n",
      "|           0|2013-11-07 23:59:...|         56|&lt;p&gt;I know t...|   10|2013-11-06 01:16:...|      143|When can 'ci' be ...|    &lt;pronouns&gt;|          2|              30|         1|  29|   142|    29|         2|2013-11-06 00:00:00|\n",
      "|           0|2013-11-07 23:59:...|         56|&lt;p&gt;I know t...|   10|2013-11-06 01:16:...|      143|When can 'ci' be ...|    &lt;pronouns&gt;|          2|              30|         1|  29|   152|    29|         2|2013-11-06 00:00:00|\n",
      "|           0|2013-11-07 23:59:...|         56|&lt;p&gt;I know t...|   10|2013-11-06 01:16:...|      143|When can 'ci' be ...|    &lt;pronouns&gt;|          2|              30|         1|  29|   213|    29|         2|2013-11-06 00:00:00|\n",
      "|           0|2013-11-07 23:59:...|         56|&lt;p&gt;I know t...|   10|2013-11-06 01:16:...|      143|When can 'ci' be ...|    &lt;pronouns&gt;|          2|              30|         1|  29|   401|    29|        16|2013-11-07 00:00:00|\n",
      "|           0|2013-11-07 23:59:...|         56|&lt;p&gt;I know t...|   10|2013-11-06 01:16:...|      143|When can 'ci' be ...|    &lt;pronouns&gt;|          2|              30|         1|  29|   414|    29|         5|2013-11-07 00:00:00|\n",
      "|           0|2013-11-07 23:59:...|         56|&lt;p&gt;I know t...|   10|2013-11-06 01:16:...|      143|When can 'ci' be ...|    &lt;pronouns&gt;|          2|              30|         1|  29|   470|    29|        16|2013-11-07 00:00:00|\n",
      "|           0|2013-11-07 23:59:...|         56|&lt;p&gt;I know t...|   10|2013-11-06 01:16:...|      143|When can 'ci' be ...|    &lt;pronouns&gt;|          2|              30|         1|  29|   558|    29|         2|2013-11-09 00:00:00|\n",
      "|           0|2013-11-07 23:59:...|         56|&lt;p&gt;I know t...|   10|2013-11-06 01:16:...|      143|When can 'ci' be ...|    &lt;pronouns&gt;|          2|              30|         1|  29|  1765|    29|         2|2013-11-11 00:00:00|\n",
      "|           1|2014-03-05 16:35:...|         12|&lt;blockquote&gt...|    1|2014-02-15 15:13:...|      125|Qual è la forma c...|&lt;word-choice&g...|          1|            null|         1|1697|  4557|  1697|         2|2014-02-15 00:00:00|\n",
      "|          11|2014-05-07 16:57:...|         37|&lt;p&gt;No poeti...|   11|2014-05-07 16:24:...|     null|                    |                    |       null|            null|         2|1950|  5423|  1950|         1|2014-05-07 00:00:00|\n",
      "|          11|2014-05-07 16:57:...|         37|&lt;p&gt;No poeti...|   11|2014-05-07 16:24:...|     null|                    |                    |       null|            null|         2|1950|  5424|  1950|         2|2014-05-07 00:00:00|\n",
      "|          11|2014-05-07 16:57:...|         37|&lt;p&gt;No poeti...|   11|2014-05-07 16:24:...|     null|                    |                    |       null|            null|         2|1950|  5426|  1950|         2|2014-05-07 00:00:00|\n",
      "+------------+--------------------+-----------+--------------------+-----+--------------------+---------+--------------------+--------------------+-----------+----------------+----------+----+------+------+----------+-------------------+\n",
      "only showing top 20 rows\n",
      "\n"
     ]
    }
   ],
   "source": [
    "postsVotes = postsDf.join(votesDf.withColumnRenamed(\"id\", \"voteId\").withColumnRenamed(\"creationDate\", \"voteCreationDate\"), \n",
    "  postsDf[\"id\"] == votesDf[\"postId\"])\n",
    "postsVotes.show()"
   ]
  },
  {
   "cell_type": "markdown",
   "metadata": {},
   "source": [
    "Save the resulting table as table \"postVotes\"."
   ]
  },
  {
   "cell_type": "code",
   "execution_count": 54,
   "metadata": {},
   "outputs": [],
   "source": [
    "postsVotes.write.saveAsTable(\"postsVotes\")"
   ]
  },
  {
   "cell_type": "markdown",
   "metadata": {},
   "source": [
    "Execute the following query and show the results:   \n",
    "`SELECT * FROM POSTSVOTES WHERE ownerUserId = 18`"
   ]
  },
  {
   "cell_type": "code",
   "execution_count": 55,
   "metadata": {},
   "outputs": [
    {
     "name": "stdout",
     "output_type": "stream",
     "text": [
      "+------------+--------------------+-----------+--------------------+-----+--------------------+---------+-----+----+-----------+----------------+----------+----+------+------+----------+-------------------+\n",
      "|commentCount|    lastActivityDate|ownerUserId|                body|score|        creationDate|viewCount|title|tags|answerCount|acceptedAnswerId|postTypeId|  id|voteId|postId|voteTypeId|   voteCreationDate|\n",
      "+------------+--------------------+-----------+--------------------+-----+--------------------+---------+-----+----+-----------+----------------+----------+----+------+------+----------+-------------------+\n",
      "|           5|2014-01-17 10:54:...|         18|&lt;p&gt;The past...|    7|2014-01-17 10:40:...|     null|     |    |       null|            null|         2|1596|  4089|  1596|         2|2014-01-17 00:00:00|\n",
      "|           5|2014-01-17 10:54:...|         18|&lt;p&gt;The past...|    7|2014-01-17 10:40:...|     null|     |    |       null|            null|         2|1596|  4116|  1596|         2|2014-01-17 00:00:00|\n",
      "|           5|2014-01-17 10:54:...|         18|&lt;p&gt;The past...|    7|2014-01-17 10:40:...|     null|     |    |       null|            null|         2|1596|  4125|  1596|         2|2014-01-18 00:00:00|\n",
      "|           5|2014-01-17 10:54:...|         18|&lt;p&gt;The past...|    7|2014-01-17 10:40:...|     null|     |    |       null|            null|         2|1596|  4215|  1596|         2|2014-01-22 00:00:00|\n",
      "|           5|2014-01-17 10:54:...|         18|&lt;p&gt;The past...|    7|2014-01-17 10:40:...|     null|     |    |       null|            null|         2|1596|  4377|  1596|         2|2014-02-03 00:00:00|\n",
      "|           5|2014-01-17 10:54:...|         18|&lt;p&gt;The past...|    7|2014-01-17 10:40:...|     null|     |    |       null|            null|         2|1596|  4471|  1596|         2|2014-02-09 00:00:00|\n",
      "|           5|2014-01-17 10:54:...|         18|&lt;p&gt;The past...|    7|2014-01-17 10:40:...|     null|     |    |       null|            null|         2|1596|  4582|  1596|         2|2014-02-18 00:00:00|\n",
      "|           5|2014-01-17 10:54:...|         18|&lt;p&gt;The past...|    7|2014-01-17 10:40:...|     null|     |    |       null|            null|         2|1596|  4583|  1596|         1|2014-02-18 00:00:00|\n",
      "|           0|2013-11-11 10:58:...|         18|&lt;p&gt;Wow, wha...|    5|2013-11-11 10:58:...|     null|     |    |       null|            null|         2|1174|  3226|  1174|         2|2013-12-14 00:00:00|\n",
      "|           0|2013-11-11 10:58:...|         18|&lt;p&gt;Wow, wha...|    5|2013-11-11 10:58:...|     null|     |    |       null|            null|         2|1174|  1752|  1174|         2|2013-11-11 00:00:00|\n",
      "|           0|2013-11-11 10:58:...|         18|&lt;p&gt;Wow, wha...|    5|2013-11-11 10:58:...|     null|     |    |       null|            null|         2|1174|  2044|  1174|         2|2013-11-13 00:00:00|\n",
      "|           0|2013-11-11 10:58:...|         18|&lt;p&gt;Wow, wha...|    5|2013-11-11 10:58:...|     null|     |    |       null|            null|         2|1174|  7560|  1174|         2|2014-08-06 00:00:00|\n",
      "|           0|2013-11-11 10:58:...|         18|&lt;p&gt;Wow, wha...|    5|2013-11-11 10:58:...|     null|     |    |       null|            null|         2|1174|  7901|  1174|         2|2014-08-19 00:00:00|\n",
      "|           6|2013-11-07 17:27:...|         18|&lt;p&gt;Si sotto...|    4|2013-11-05 20:38:...|     null|     |    |       null|            null|         2|   4|  3312|     4|         2|2013-12-15 00:00:00|\n",
      "|           6|2013-11-07 17:27:...|         18|&lt;p&gt;Si sotto...|    4|2013-11-05 20:38:...|     null|     |    |       null|            null|         2|   4|     4|     4|         2|2013-11-05 00:00:00|\n",
      "|           6|2013-11-07 17:27:...|         18|&lt;p&gt;Si sotto...|    4|2013-11-05 20:38:...|     null|     |    |       null|            null|         2|   4|    11|     4|         2|2013-11-05 00:00:00|\n",
      "|           6|2013-11-07 17:27:...|         18|&lt;p&gt;Si sotto...|    4|2013-11-05 20:38:...|     null|     |    |       null|            null|         2|   4|    15|     4|         2|2013-11-05 00:00:00|\n",
      "|           6|2013-11-07 17:27:...|         18|&lt;p&gt;Si sotto...|    4|2013-11-05 20:38:...|     null|     |    |       null|            null|         2|   4|   402|     4|        16|2013-11-07 00:00:00|\n",
      "|           1|2014-01-05 14:09:...|         18|&lt;p&gt;RAI has ...|    5|2014-01-05 14:09:...|     null|     |    |       null|            null|         2|1570|  3873|  1570|         1|2014-01-05 00:00:00|\n",
      "|           1|2014-01-05 14:09:...|         18|&lt;p&gt;RAI has ...|    5|2014-01-05 14:09:...|     null|     |    |       null|            null|         2|1570|  3874|  1570|         2|2014-01-05 00:00:00|\n",
      "+------------+--------------------+-----------+--------------------+-----+--------------------+---------+-----+----+-----------+----------------+----------+----+------+------+----------+-------------------+\n",
      "only showing top 20 rows\n",
      "\n"
     ]
    }
   ],
   "source": [
    "spark.sql(\"SELECT * FROM POSTSVOTES WHERE ownerUserId = 18\").show()"
   ]
  },
  {
   "cell_type": "markdown",
   "metadata": {},
   "source": [
    "List all the tables in the Spark catalog."
   ]
  },
  {
   "cell_type": "code",
   "execution_count": null,
   "metadata": {},
   "outputs": [],
   "source": [
    "spark.catalog.listTables()"
   ]
  },
  {
   "cell_type": "markdown",
   "metadata": {},
   "source": [
    "List all the columns of the 'postsVotes' table using the Spark catalog."
   ]
  },
  {
   "cell_type": "code",
   "execution_count": null,
   "metadata": {},
   "outputs": [],
   "source": [
    "spark.catalog.listColumns('postsvotes')"
   ]
  }
 ],
 "metadata": {
  "kernelspec": {
   "display_name": "Python 3",
   "language": "python",
   "name": "python3"
  },
  "language_info": {
   "codemirror_mode": {
    "name": "ipython",
    "version": 3
   },
   "file_extension": ".py",
   "mimetype": "text/x-python",
   "name": "python",
   "nbconvert_exporter": "python",
   "pygments_lexer": "ipython3",
   "version": "3.6.5"
  }
 },
 "nbformat": 4,
 "nbformat_minor": 1
}
